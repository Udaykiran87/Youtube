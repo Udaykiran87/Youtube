{
 "cells": [
  {
   "cell_type": "markdown",
   "metadata": {},
   "source": [
    "# How to iterate through two lists in parallel?"
   ]
  },
  {
   "cell_type": "markdown",
   "metadata": {},
   "source": [
    "# method 1:"
   ]
  },
  {
   "cell_type": "code",
   "execution_count": 1,
   "metadata": {},
   "outputs": [],
   "source": [
    "import time\n",
    "list1 = [i for i in range(1,50)]\n",
    "list2 = [i for i in range(101,150)]\n"
   ]
  },
  {
   "cell_type": "code",
   "execution_count": 2,
   "metadata": {},
   "outputs": [
    {
     "name": "stdout",
     "output_type": "stream",
     "text": [
      "list1: 1 list2: 101\n",
      "list1: 2 list2: 102\n",
      "list1: 3 list2: 103\n",
      "list1: 4 list2: 104\n",
      "list1: 5 list2: 105\n",
      "list1: 6 list2: 106\n",
      "list1: 7 list2: 107\n",
      "list1: 8 list2: 108\n",
      "list1: 9 list2: 109\n",
      "list1: 10 list2: 110\n",
      "list1: 11 list2: 111\n",
      "list1: 12 list2: 112\n",
      "list1: 13 list2: 113\n",
      "list1: 14 list2: 114\n",
      "list1: 15 list2: 115\n",
      "list1: 16 list2: 116\n",
      "list1: 17 list2: 117\n",
      "list1: 18 list2: 118\n",
      "list1: 19 list2: 119\n",
      "list1: 20 list2: 120\n",
      "list1: 21 list2: 121\n",
      "list1: 22 list2: 122\n",
      "list1: 23 list2: 123\n",
      "list1: 24 list2: 124\n",
      "list1: 25 list2: 125\n",
      "list1: 26 list2: 126\n",
      "list1: 27 list2: 127\n",
      "list1: 28 list2: 128\n",
      "list1: 29 list2: 129\n",
      "list1: 30 list2: 130\n",
      "list1: 31 list2: 131\n",
      "list1: 32 list2: 132\n",
      "list1: 33 list2: 133\n",
      "list1: 34 list2: 134\n",
      "list1: 35 list2: 135\n",
      "list1: 36 list2: 136\n",
      "list1: 37 list2: 137\n",
      "list1: 38 list2: 138\n",
      "list1: 39 list2: 139\n",
      "list1: 40 list2: 140\n",
      "list1: 41 list2: 141\n",
      "list1: 42 list2: 142\n",
      "list1: 43 list2: 143\n",
      "list1: 44 list2: 144\n",
      "list1: 45 list2: 145\n",
      "list1: 46 list2: 146\n",
      "list1: 47 list2: 147\n",
      "list1: 48 list2: 148\n",
      "list1: 49 list2: 149\n",
      "0.022998809814453125\n"
     ]
    }
   ],
   "source": [
    "start_time = time.time()\n",
    "for i in range(len(list1)):\n",
    "    print(\"list1:\",list1[i],\"list2:\",list2[i])\n",
    "end_time = time.time()\n",
    "print(end_time-start_time)"
   ]
  },
  {
   "cell_type": "markdown",
   "metadata": {},
   "source": [
    "# method 2:"
   ]
  },
  {
   "cell_type": "code",
   "execution_count": 3,
   "metadata": {},
   "outputs": [
    {
     "name": "stdout",
     "output_type": "stream",
     "text": [
      "list1: 1 list2: 101\n",
      "list1: 2 list2: 102\n",
      "list1: 3 list2: 103\n",
      "list1: 4 list2: 104\n",
      "list1: 5 list2: 105\n",
      "list1: 6 list2: 106\n",
      "list1: 7 list2: 107\n",
      "list1: 8 list2: 108\n",
      "list1: 9 list2: 109\n",
      "list1: 10 list2: 110\n",
      "list1: 11 list2: 111\n",
      "list1: 12 list2: 112\n",
      "list1: 13 list2: 113\n",
      "list1: 14 list2: 114\n",
      "list1: 15 list2: 115\n",
      "list1: 16 list2: 116\n",
      "list1: 17 list2: 117\n",
      "list1: 18 list2: 118\n",
      "list1: 19 list2: 119\n",
      "list1: 20 list2: 120\n",
      "list1: 21 list2: 121\n",
      "list1: 22 list2: 122\n",
      "list1: 23 list2: 123\n",
      "list1: 24 list2: 124\n",
      "list1: 25 list2: 125\n",
      "list1: 26 list2: 126\n",
      "list1: 27 list2: 127\n",
      "list1: 28 list2: 128\n",
      "list1: 29 list2: 129\n",
      "list1: 30 list2: 130\n",
      "list1: 31 list2: 131\n",
      "list1: 32 list2: 132\n",
      "list1: 33 list2: 133\n",
      "list1: 34 list2: 134\n",
      "list1: 35 list2: 135\n",
      "list1: 36 list2: 136\n",
      "list1: 37 list2: 137\n",
      "list1: 38 list2: 138\n",
      "list1: 39 list2: 139\n",
      "list1: 40 list2: 140\n",
      "list1: 41 list2: 141\n",
      "list1: 42 list2: 142\n",
      "list1: 43 list2: 143\n",
      "list1: 44 list2: 144\n",
      "list1: 45 list2: 145\n",
      "list1: 46 list2: 146\n",
      "list1: 47 list2: 147\n",
      "list1: 48 list2: 148\n",
      "list1: 49 list2: 149\n",
      "0.02398991584777832\n"
     ]
    }
   ],
   "source": [
    "start_time = time.time()\n",
    "for l1, l2 in zip(list1, list2):\n",
    "    print(\"list1:\",l1,\"list2:\",l2)\n",
    "end_time = time.time()\n",
    "print(end_time-start_time)    "
   ]
  },
  {
   "cell_type": "markdown",
   "metadata": {},
   "source": [
    "# method 3:"
   ]
  },
  {
   "cell_type": "code",
   "execution_count": 4,
   "metadata": {},
   "outputs": [
    {
     "name": "stdout",
     "output_type": "stream",
     "text": [
      "list1: 1 lis2: 101\n",
      "list1: 2 lis2: 102\n",
      "list1: 3 lis2: 103\n",
      "list1: 4 lis2: 104\n",
      "list1: 5 lis2: 105\n",
      "list1: 6 lis2: 106\n",
      "list1: 7 lis2: 107\n",
      "list1: 8 lis2: 108\n",
      "list1: 9 lis2: 109\n",
      "list1: 10 lis2: 110\n",
      "list1: 11 lis2: 111\n",
      "list1: 12 lis2: 112\n",
      "list1: 13 lis2: 113\n",
      "list1: 14 lis2: 114\n",
      "list1: 15 lis2: 115\n",
      "list1: 16 lis2: 116\n",
      "list1: 17 lis2: 117\n",
      "list1: 18 lis2: 118\n",
      "list1: 19 lis2: 119\n",
      "list1: 20 lis2: 120\n",
      "list1: 21 lis2: 121\n",
      "list1: 22 lis2: 122\n",
      "list1: 23 lis2: 123\n",
      "list1: 24 lis2: 124\n",
      "list1: 25 lis2: 125\n",
      "list1: 26 lis2: 126\n",
      "list1: 27 lis2: 127\n",
      "list1: 28 lis2: 128\n",
      "list1: 29 lis2: 129\n",
      "list1: 30 lis2: 130\n",
      "list1: 31 lis2: 131\n",
      "list1: 32 lis2: 132\n",
      "list1: 33 lis2: 133\n",
      "list1: 34 lis2: 134\n",
      "list1: 35 lis2: 135\n",
      "list1: 36 lis2: 136\n",
      "list1: 37 lis2: 137\n",
      "list1: 38 lis2: 138\n",
      "list1: 39 lis2: 139\n",
      "list1: 40 lis2: 140\n",
      "list1: 41 lis2: 141\n",
      "list1: 42 lis2: 142\n",
      "list1: 43 lis2: 143\n",
      "list1: 44 lis2: 144\n",
      "list1: 45 lis2: 145\n",
      "list1: 46 lis2: 146\n",
      "list1: 47 lis2: 147\n",
      "list1: 48 lis2: 148\n",
      "list1: 49 lis2: 149\n",
      "0.02601003646850586\n"
     ]
    }
   ],
   "source": [
    "start_time = time.time()\n",
    "for i,l1 in enumerate(list1):\n",
    "    print(\"list1:\",l1,\"lis2:\",list2[i])\n",
    "end_time = time.time()\n",
    "print(end_time-start_time)      "
   ]
  },
  {
   "cell_type": "markdown",
   "metadata": {},
   "source": [
    "# method 4:"
   ]
  },
  {
   "cell_type": "code",
   "execution_count": 5,
   "metadata": {},
   "outputs": [
    {
     "name": "stdout",
     "output_type": "stream",
     "text": [
      "list1: 1 list2: 101\n",
      "list1: 2 list2: 102\n",
      "list1: 3 list2: 103\n",
      "list1: 4 list2: 104\n",
      "list1: 5 list2: 105\n",
      "list1: 6 list2: 106\n",
      "list1: 7 list2: 107\n",
      "list1: 8 list2: 108\n",
      "list1: 9 list2: 109\n",
      "list1: 10 list2: 110\n",
      "list1: 11 list2: 111\n",
      "list1: 12 list2: 112\n",
      "list1: 13 list2: 113\n",
      "list1: 14 list2: 114\n",
      "list1: 15 list2: 115\n",
      "list1: 16 list2: 116\n",
      "list1: 17 list2: 117\n",
      "list1: 18 list2: 118\n",
      "list1: 19 list2: 119\n",
      "list1: 20 list2: 120\n",
      "list1: 21 list2: 121\n",
      "list1: 22 list2: 122\n",
      "list1: 23 list2: 123\n",
      "list1: 24 list2: 124\n",
      "list1: 25 list2: 125\n",
      "list1: 26 list2: 126\n",
      "list1: 27 list2: 127\n",
      "list1: 28 list2: 128\n",
      "list1: 29 list2: 129\n",
      "list1: 30 list2: 130\n",
      "list1: 31 list2: 131\n",
      "list1: 32 list2: 132\n",
      "list1: 33 list2: 133\n",
      "list1: 34 list2: 134\n",
      "list1: 35 list2: 135\n",
      "list1: 36 list2: 136\n",
      "list1: 37 list2: 137\n",
      "list1: 38 list2: 138\n",
      "list1: 39 list2: 139\n",
      "list1: 40 list2: 140\n",
      "list1: 41 list2: 141\n",
      "list1: 42 list2: 142\n",
      "list1: 43 list2: 143\n",
      "list1: 44 list2: 144\n",
      "list1: 45 list2: 145\n",
      "list1: 46 list2: 146\n",
      "list1: 47 list2: 147\n",
      "list1: 48 list2: 148\n",
      "list1: 49 list2: 149\n",
      "0.0419926643371582\n"
     ]
    }
   ],
   "source": [
    "start_time = time.time()\n",
    "count=0\n",
    "for i in list1:\n",
    "    print(\"list1:\",i,\"list2:\",list2[count])\n",
    "    count+=1\n",
    "end_time = time.time()\n",
    "print(end_time-start_time)          "
   ]
  },
  {
   "cell_type": "code",
   "execution_count": null,
   "metadata": {},
   "outputs": [],
   "source": []
  }
 ],
 "metadata": {
  "kernelspec": {
   "display_name": "Python 3",
   "language": "python",
   "name": "python3"
  },
  "language_info": {
   "codemirror_mode": {
    "name": "ipython",
    "version": 3
   },
   "file_extension": ".py",
   "mimetype": "text/x-python",
   "name": "python",
   "nbconvert_exporter": "python",
   "pygments_lexer": "ipython3",
   "version": "3.7.6"
  }
 },
 "nbformat": 4,
 "nbformat_minor": 4
}
