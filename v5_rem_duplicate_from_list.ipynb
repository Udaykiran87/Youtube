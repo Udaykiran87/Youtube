{
 "cells": [
  {
   "cell_type": "markdown",
   "metadata": {},
   "source": [
    "# Differenet ways of removing duplicate elements from a list whilst preserving their order"
   ]
  },
  {
   "cell_type": "code",
   "execution_count": 13,
   "metadata": {},
   "outputs": [],
   "source": [
    "import timeit\n",
    "list_val = [1,5,4,8,4,7,3,5,3,2,9]"
   ]
  },
  {
   "cell_type": "markdown",
   "metadata": {},
   "source": [
    "# method 1: using dict.fromkeys"
   ]
  },
  {
   "cell_type": "code",
   "execution_count": 17,
   "metadata": {},
   "outputs": [
    {
     "data": {
      "text/plain": [
       "[1, 5, 4, 8, 7, 3, 2, 9]"
      ]
     },
     "execution_count": 17,
     "metadata": {},
     "output_type": "execute_result"
    }
   ],
   "source": [
    "list(dict.fromkeys(list_val))"
   ]
  },
  {
   "cell_type": "code",
   "execution_count": 16,
   "metadata": {},
   "outputs": [
    {
     "name": "stdout",
     "output_type": "stream",
     "text": [
      "0.05572219999999106\n"
     ]
    }
   ],
   "source": [
    "code = \"\"\"\n",
    "list_val = [1,5,4,8,4,7,3,5,3,2,9]\n",
    "list(dict.fromkeys(list_val))\n",
    "\"\"\"\n",
    "# timeit statement \n",
    "print (timeit.timeit(stmt = code,\n",
    "                     number = 10000))"
   ]
  },
  {
   "cell_type": "markdown",
   "metadata": {},
   "source": [
    "# method 2: using unique_everseen"
   ]
  },
  {
   "cell_type": "code",
   "execution_count": 5,
   "metadata": {},
   "outputs": [
    {
     "name": "stdout",
     "output_type": "stream",
     "text": [
      "Requirement already satisfied: more_itertools in c:\\users\\monalisa\\anaconda3\\lib\\site-packages (8.2.0)\n"
     ]
    }
   ],
   "source": [
    "!pip install more_itertools"
   ]
  },
  {
   "cell_type": "code",
   "execution_count": 7,
   "metadata": {},
   "outputs": [
    {
     "data": {
      "text/plain": [
       "[1, 5, 4, 8, 7, 3, 2, 9]"
      ]
     },
     "execution_count": 7,
     "metadata": {},
     "output_type": "execute_result"
    }
   ],
   "source": [
    "from  more_itertools import unique_everseen\n",
    "list(unique_everseen(list_val))"
   ]
  },
  {
   "cell_type": "code",
   "execution_count": 20,
   "metadata": {},
   "outputs": [
    {
     "name": "stdout",
     "output_type": "stream",
     "text": [
      "0.11832460000005085\n"
     ]
    }
   ],
   "source": [
    "mysetup = \"from  more_itertools import unique_everseen\"\n",
    "code = \"\"\"\n",
    "list_val = [1,5,4,8,4,7,3,5,3,2,9]\n",
    "list(unique_everseen(list_val))\n",
    "\"\"\"\n",
    "# timeit statement \n",
    "print (timeit.timeit(setup = mysetup,stmt = code,\n",
    "                     number = 10000))"
   ]
  },
  {
   "cell_type": "markdown",
   "metadata": {},
   "source": [
    "# method 2: using OrderedDict"
   ]
  },
  {
   "cell_type": "code",
   "execution_count": 9,
   "metadata": {},
   "outputs": [
    {
     "data": {
      "text/plain": [
       "[1, 5, 4, 8, 7, 3, 2, 9]"
      ]
     },
     "execution_count": 9,
     "metadata": {},
     "output_type": "execute_result"
    }
   ],
   "source": [
    "from collections import OrderedDict\n",
    "list(OrderedDict.fromkeys(list_val))"
   ]
  },
  {
   "cell_type": "code",
   "execution_count": 21,
   "metadata": {},
   "outputs": [
    {
     "name": "stdout",
     "output_type": "stream",
     "text": [
      "0.06391890000031708\n"
     ]
    }
   ],
   "source": [
    "mysetup = \"from collections import OrderedDict\"\n",
    "code = \"\"\"\n",
    "list_val = [1,5,4,8,4,7,3,5,3,2,9]\n",
    "list(OrderedDict.fromkeys(list_val))\n",
    "\"\"\"\n",
    "# timeit statement \n",
    "print (timeit.timeit(setup = mysetup,stmt = code,\n",
    "                     number = 10000))"
   ]
  },
  {
   "cell_type": "markdown",
   "metadata": {},
   "source": [
    "# method 3: using traditional for loop"
   ]
  },
  {
   "cell_type": "code",
   "execution_count": 10,
   "metadata": {},
   "outputs": [
    {
     "data": {
      "text/plain": [
       "[1, 5, 4, 8, 7, 3, 2, 9]"
      ]
     },
     "execution_count": 10,
     "metadata": {},
     "output_type": "execute_result"
    }
   ],
   "source": [
    "unique_list= []\n",
    "for item in list_val:\n",
    "    if item not in unique_list:\n",
    "        unique_list.append(item)\n",
    "unique_list"
   ]
  },
  {
   "cell_type": "code",
   "execution_count": 24,
   "metadata": {},
   "outputs": [
    {
     "name": "stdout",
     "output_type": "stream",
     "text": [
      "0.040121300000009796\n"
     ]
    }
   ],
   "source": [
    "code = \"\"\"\n",
    "list_val = [1,5,4,8,4,7,3,5,3,2,9]\n",
    "unique_list= []\n",
    "for item in list_val:\n",
    "    if item not in unique_list:\n",
    "        unique_list.append(item)\n",
    "\"\"\"\n",
    "# timeit statement \n",
    "print (timeit.timeit(stmt = code,number = 10000))"
   ]
  },
  {
   "cell_type": "markdown",
   "metadata": {},
   "source": [
    "# method 4: using pandas"
   ]
  },
  {
   "cell_type": "code",
   "execution_count": 12,
   "metadata": {},
   "outputs": [
    {
     "data": {
      "text/plain": [
       "[1, 5, 4, 8, 7, 3, 2, 9]"
      ]
     },
     "execution_count": 12,
     "metadata": {},
     "output_type": "execute_result"
    }
   ],
   "source": [
    "import pandas as pd\n",
    "pd.Series(list_val).drop_duplicates().tolist()"
   ]
  },
  {
   "cell_type": "code",
   "execution_count": 26,
   "metadata": {},
   "outputs": [
    {
     "name": "stdout",
     "output_type": "stream",
     "text": [
      "18.620199700000285\n"
     ]
    }
   ],
   "source": [
    "mysetup = \"import pandas as pd\"\n",
    "code = \"\"\"\n",
    "list_val = [1,5,4,8,4,7,3,5,3,2,9]\n",
    "pd.Series(list_val).drop_duplicates().tolist()\n",
    "\"\"\"\n",
    "# timeit statement \n",
    "print (timeit.timeit(setup = mysetup,stmt = code,\n",
    "                     number = 10000))"
   ]
  },
  {
   "cell_type": "code",
   "execution_count": null,
   "metadata": {},
   "outputs": [],
   "source": []
  }
 ],
 "metadata": {
  "kernelspec": {
   "display_name": "Python 3",
   "language": "python",
   "name": "python3"
  },
  "language_info": {
   "codemirror_mode": {
    "name": "ipython",
    "version": 3
   },
   "file_extension": ".py",
   "mimetype": "text/x-python",
   "name": "python",
   "nbconvert_exporter": "python",
   "pygments_lexer": "ipython3",
   "version": "3.7.6"
  }
 },
 "nbformat": 4,
 "nbformat_minor": 4
}
